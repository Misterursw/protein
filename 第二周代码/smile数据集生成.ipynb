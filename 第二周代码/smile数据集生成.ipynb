{
 "cells": [
  {
   "cell_type": "code",
   "execution_count": 1,
   "metadata": {},
   "outputs": [
    {
     "name": "stdout",
     "output_type": "stream",
     "text": [
      "Help on class SmilesEnumerator in module SmilesEnumerator:\n",
      "\n",
      "class SmilesEnumerator(builtins.object)\n",
      " |  SmilesEnumerator(charset='@C)(=cOn1S2/H[N]\\\\', pad=120, leftpad=True, isomericSmiles=True, enum=True, canonical=False)\n",
      " |\n",
      " |  SMILES Enumerator, vectorizer and devectorizer\n",
      " |\n",
      " |  #Arguments\n",
      " |      charset: string containing the characters for the vectorization\n",
      " |        can also be generated via the .fit() method\n",
      " |      pad: Length of the vectorization\n",
      " |      leftpad: Add spaces to the left of the SMILES\n",
      " |      isomericSmiles: Generate SMILES containing information about stereogenic centers\n",
      " |      enum: Enumerate the SMILES during transform\n",
      " |      canonical: use canonical SMILES during transform (overrides enum)\n",
      " |\n",
      " |  Methods defined here:\n",
      " |\n",
      " |  __init__(self, charset='@C)(=cOn1S2/H[N]\\\\', pad=120, leftpad=True, isomericSmiles=True, enum=True, canonical=False)\n",
      " |      Initialize self.  See help(type(self)) for accurate signature.\n",
      " |\n",
      " |  fit(self, smiles, extra_chars=[], extra_pad=5)\n",
      " |      Performs extraction of the charset and length of a SMILES datasets and sets self.pad and self.charset\n",
      " |\n",
      " |      #Arguments\n",
      " |          smiles: Numpy array or Pandas series containing smiles as strings\n",
      " |          extra_chars: List of extra chars to add to the charset (e.g. \"\\\\\" when \"/\" is present)\n",
      " |          extra_pad: Extra padding to add before or after the SMILES vectorization\n",
      " |\n",
      " |  randomize_smiles(self, smiles)\n",
      " |      Perform a randomization of a SMILES string\n",
      " |      must be RDKit sanitizable\n",
      " |\n",
      " |  reverse_transform(self, vect)\n",
      " |      Performs a conversion of a vectorized SMILES to a smiles strings\n",
      " |      charset must be the same as used for vectorization.\n",
      " |      #Arguments\n",
      " |          vect: Numpy array of vectorized SMILES.\n",
      " |\n",
      " |  transform(self, smiles)\n",
      " |      Perform an enumeration (randomization) and vectorization of a Numpy array of smiles strings\n",
      " |      #Arguments\n",
      " |          smiles: Numpy array or Pandas series containing smiles as strings\n",
      " |\n",
      " |  ----------------------------------------------------------------------\n",
      " |  Data descriptors defined here:\n",
      " |\n",
      " |  __dict__\n",
      " |      dictionary for instance variables\n",
      " |\n",
      " |  __weakref__\n",
      " |      list of weak references to the object\n",
      " |\n",
      " |  charset\n",
      "\n",
      "None\n"
     ]
    }
   ],
   "source": [
    "from SmilesEnumerator import SmilesEnumerator\n",
    "sme = SmilesEnumerator()\n",
    "print(help(SmilesEnumerator))"
   ]
  },
  {
   "cell_type": "code",
   "execution_count": 2,
   "metadata": {},
   "outputs": [
    {
     "name": "stdout",
     "output_type": "stream",
     "text": [
      "3.12.3 | packaged by conda-forge | (main, Apr 15 2024, 18:20:11) [MSC v.1938 64 bit (AMD64)]\n"
     ]
    }
   ],
   "source": [
    "import sys\n",
    "print(sys.version)"
   ]
  },
  {
   "cell_type": "code",
   "execution_count": 3,
   "metadata": {},
   "outputs": [
    {
     "name": "stdout",
     "output_type": "stream",
     "text": [
      "12.1\n",
      "90100\n"
     ]
    }
   ],
   "source": [
    "import torch\n",
    "print(torch.version.cuda)\n",
    "print(torch.backends.cudnn.version())"
   ]
  },
  {
   "cell_type": "markdown",
   "metadata": {},
   "source": [
    "random作用：生成一样（等效）但是表示不同的分子。比如\"CCCC\"，\"CC(C)C\""
   ]
  },
  {
   "cell_type": "code",
   "execution_count": 3,
   "metadata": {},
   "outputs": [
    {
     "name": "stdout",
     "output_type": "stream",
     "text": [
      "CCC(=O)O[C@@]1(c2ccccc2)[C@H](CC=C)C[NH+](C)CC1\n",
      "[NH+]1(C)C[C@@H](CC=C)[C@](c2ccccc2)(OC(CC)=O)CC1\n",
      "CCC(=O)O[C@@]1(c2ccccc2)[C@H](CC=C)C[NH+](C)CC1\n",
      "[C@@]1(OC(=O)CC)(c2ccccc2)CC[NH+](C)C[C@H]1CC=C\n",
      "c1cc([C@]2(OC(CC)=O)[C@H](CC=C)C[NH+](C)CC2)ccc1\n",
      "[C@@H]1(CC=C)C[NH+](C)CC[C@]1(OC(CC)=O)c1ccccc1\n",
      "c1c([C@]2(OC(CC)=O)[C@H](CC=C)C[NH+](C)CC2)cccc1\n",
      "C(=C)C[C@@H]1C[NH+](C)CC[C@@]1(c1ccccc1)OC(CC)=O\n",
      "C1[C@@H](CC=C)[C@@](OC(CC)=O)(c2ccccc2)CC[NH+]1C\n",
      "c1cc([C@]2(OC(CC)=O)[C@H](CC=C)C[NH+](C)CC2)ccc1\n"
     ]
    }
   ],
   "source": [
    "for i in range(10):\n",
    "    print(sme.randomize_smiles(\"CCC(=O)O[C@@]1(CC[NH+](C[C@H]1CC=C)C)c2ccccc2\"))"
   ]
  },
  {
   "cell_type": "markdown",
   "metadata": {},
   "source": [
    "sme.fit（）用于提取数组的字典和最大填充长度（即里面最多的这个字符数）保证字符长度一样"
   ]
  },
  {
   "cell_type": "code",
   "execution_count": 4,
   "metadata": {},
   "outputs": [
    {
     "name": "stdout",
     "output_type": "stream",
     "text": [
      "(1,)\n"
     ]
    }
   ],
   "source": [
    "import numpy as np\n",
    "smiles = np.array([\"CCC(=O)O[C@@]1(CC[NH+](C[C@H]1CC=C)C)c2ccccc2\"])\n",
    "print(smiles.shape)"
   ]
  },
  {
   "cell_type": "code",
   "execution_count": 7,
   "metadata": {},
   "outputs": [
    {
     "name": "stdout",
     "output_type": "stream",
     "text": [
      "[HC]@+(NO=)c12\n",
      "Number of characters in charset: 14\n",
      "50\n"
     ]
    }
   ],
   "source": [
    "sme.fit(smiles)\n",
    "print(sme.charset)\n",
    "print(\"Number of characters in charset:\", len(sme.charset))\n",
    "print(sme.pad)"
   ]
  },
  {
   "cell_type": "code",
   "execution_count": 8,
   "metadata": {},
   "outputs": [
    {
     "name": "stdout",
     "output_type": "stream",
     "text": [
      "Shape of the vectorized matrix: (1, 50, 14)\n"
     ]
    },
    {
     "data": {
      "text/plain": [
       "<matplotlib.image.AxesImage at 0x131a66278f0>"
      ]
     },
     "execution_count": 8,
     "metadata": {},
     "output_type": "execute_result"
    },
    {
     "data": {
      "image/png": "[encoded data removed]",
      "text/plain": [
       "<Figure size 640x480 with 1 Axes>"
      ]
     },
     "metadata": {},
     "output_type": "display_data"
    }
   ],
   "source": [
    "import matplotlib.pyplot as plt\n",
    "%matplotlib inline\n",
    "vect = sme.transform(smiles)\n",
    "print(\"Shape of the vectorized matrix:\", vect.shape)\n",
    "plt.imshow(vect[0])"
   ]
  },
  {
   "cell_type": "markdown",
   "metadata": {},
   "source": [
    "enumerate是否随机化？\n",
    "canonical是否标准化？\n",
    "请注意，当时标准化时会强制不随机"
   ]
  },
  {
   "cell_type": "code",
   "execution_count": 9,
   "metadata": {},
   "outputs": [
    {
     "name": "stdout",
     "output_type": "stream",
     "text": [
      "True False\n"
     ]
    },
    {
     "data": {
      "text/plain": [
       "<matplotlib.image.AxesImage at 0x131a666b860>"
      ]
     },
     "execution_count": 9,
     "metadata": {},
     "output_type": "execute_result"
    },
    {
     "data": {
      "image/png": "[encoded data removed]",
      "text/plain": [
       "<Figure size 640x480 with 1 Axes>"
      ]
     },
     "metadata": {},
     "output_type": "display_data"
    }
   ],
   "source": [
    "print(sme.enumerate, sme.canonical)\n",
    "vect = sme.transform(smiles)\n",
    "plt.imshow(vect[0])"
   ]
  },
  {
   "cell_type": "code",
   "execution_count": 10,
   "metadata": {},
   "outputs": [
    {
     "name": "stdout",
     "output_type": "stream",
     "text": [
      "\n",
      "With enumerate=False, canonical=True:\n",
      "Charset: [HC]@+(NO=)c12\n",
      "Number of characters in charset: 14\n",
      "Shape of the vectorized matrix: (1, 50, 14)\n"
     ]
    },
    {
     "data": {
      "image/png": "[encoded data removed]",
      "text/plain": [
       "<Figure size 640x480 with 1 Axes>"
      ]
     },
     "metadata": {},
     "output_type": "display_data"
    },
    {
     "name": "stdout",
     "output_type": "stream",
     "text": [
      "\n",
      "With enumerate=True, canonical=True:\n",
      "Charset: [HC]@+(NO=)c12\n",
      "Number of characters in charset: 14\n",
      "Shape of the vectorized matrix: (1, 50, 14)\n"
     ]
    },
    {
     "data": {
      "image/png": "[encoded data removed]",
      "text/plain": [
       "<Figure size 640x480 with 1 Axes>"
      ]
     },
     "metadata": {},
     "output_type": "display_data"
    }
   ],
   "source": [
    "# 设置 enumerate=False, canonical=True\n",
    "sme.enumerate = False\n",
    "sme.canonical = True\n",
    "\n",
    "# 使用 transform 方法将 SMILES 转换为向量化矩阵并可视化\n",
    "vect = sme.transform(smiles)\n",
    "print(\"\\nWith enumerate=False, canonical=True:\")\n",
    "print(\"Charset:\", sme.charset)\n",
    "print(\"Number of characters in charset:\", len(sme.charset))\n",
    "print(\"Shape of the vectorized matrix:\", vect.shape)\n",
    "plt.imshow(vect[0])\n",
    "plt.title(\"enumerate=False, canonical=True\")\n",
    "plt.show()\n",
    "\n",
    "# 设置 enumerate=True, canonical=True\n",
    "sme.enumerate = True\n",
    "sme.canonical = True\n",
    "\n",
    "# 使用 transform 方法将 SMILES 转换为向量化矩阵并可视化\n",
    "vect = sme.transform(smiles)\n",
    "print(\"\\nWith enumerate=True, canonical=True:\")\n",
    "print(\"Charset:\", sme.charset)\n",
    "print(\"Number of characters in charset:\", len(sme.charset))\n",
    "print(\"Shape of the vectorized matrix:\", vect.shape)\n",
    "plt.imshow(vect[0])\n",
    "plt.title(\"enumerate=True, canonical=True\")\n",
    "plt.show()"
   ]
  },
  {
   "cell_type": "code",
   "execution_count": 11,
   "metadata": {},
   "outputs": [
    {
     "name": "stdout",
     "output_type": "stream",
     "text": [
      "['C=CC[C@@H]1C[NH+](C)CC[C@]1(OC(=O)CC)c1ccccc1']\n"
     ]
    }
   ],
   "source": [
    "print(sme.reverse_transform(vect))"
   ]
  },
  {
   "cell_type": "code",
   "execution_count": 13,
   "metadata": {},
   "outputs": [
    {
     "name": "stdout",
     "output_type": "stream",
     "text": [
      "   Unnamed: 0                                      smiles_parent PC_uM_sign  \\\n",
      "0           0                      CCc1nc(N)nc(N)c1-c1ccc(Cl)cc1        NaN   \n",
      "1           1                  CCc1nc(N)nc(N)c1-c1ccc(Cl)c(Cl)c1        NaN   \n",
      "2           2                   Cc1nc(N)nc(N)c1-c1ccc(Cl)c(Cl)c1        NaN   \n",
      "3           3                CCOCc1nc(N)nc(N)c1-c1ccc(Cl)c(Cl)c1        NaN   \n",
      "4           4  Nc1nc(N)c(-c2ccc(Cl)cc2)c(COc2ccc([N+](=O)[O-]...        NaN   \n",
      "5           5      Nc1nc(N)c(-c2ccc(Cl)c(Cl)c2)c(C=CCc2ccccc2)n1        NaN   \n",
      "\n",
      "   PC_uM_value  \n",
      "0         3.70  \n",
      "1         1.08  \n",
      "2         1.68  \n",
      "3        12.70  \n",
      "4        85.10  \n",
      "5         0.50  \n"
     ]
    }
   ],
   "source": [
    "import pandas as pd\n",
    "\n",
    "data = pd.read_csv(\"Example_data/Sutherland_DHFR.csv\")\n",
    "print(data.head(6))"
   ]
  }
 ],
 "metadata": {
  "kernelspec": {
   "display_name": "base",
   "language": "python",
   "name": "python3"
  },
  "language_info": {
   "codemirror_mode": {
    "name": "ipython",
    "version": 3
   },
   "file_extension": ".py",
   "mimetype": "text/x-python",
   "name": "python",
   "nbconvert_exporter": "python",
   "pygments_lexer": "ipython3",
   "version": "3.12.4"
  }
 },
 "nbformat": 4,
 "nbformat_minor": 2
}
